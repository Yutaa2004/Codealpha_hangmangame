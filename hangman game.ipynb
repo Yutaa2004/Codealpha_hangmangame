{
 "cells": [
  {
   "cell_type": "code",
   "execution_count": 1,
   "id": "85b58283-8737-4a52-b436-669f30cc65d8",
   "metadata": {},
   "outputs": [
    {
     "name": "stdin",
     "output_type": "stream",
     "text": [
      "What is your name? pooja\n"
     ]
    },
    {
     "name": "stdout",
     "output_type": "stream",
     "text": [
      "Hello, pooja, Time to play hangman!\n",
      " \n",
      "Start guessing...\n",
      "_ _ _ _ _ _ \n"
     ]
    },
    {
     "name": "stdin",
     "output_type": "stream",
     "text": [
      "guess a character: s\n"
     ]
    },
    {
     "name": "stdout",
     "output_type": "stream",
     "text": [
      "s _ _ _ _ _ \n"
     ]
    },
    {
     "name": "stdin",
     "output_type": "stream",
     "text": [
      "guess a character: e\n"
     ]
    },
    {
     "name": "stdout",
     "output_type": "stream",
     "text": [
      "s e _ _ e _ \n"
     ]
    },
    {
     "name": "stdin",
     "output_type": "stream",
     "text": [
      "guess a character: c\n"
     ]
    },
    {
     "name": "stdout",
     "output_type": "stream",
     "text": [
      "s e c _ e _ \n"
     ]
    },
    {
     "name": "stdin",
     "output_type": "stream",
     "text": [
      "guess a character: r\n"
     ]
    },
    {
     "name": "stdout",
     "output_type": "stream",
     "text": [
      "s e c r e _ \n"
     ]
    },
    {
     "name": "stdin",
     "output_type": "stream",
     "text": [
      "guess a character: t\n"
     ]
    },
    {
     "name": "stdout",
     "output_type": "stream",
     "text": [
      "s e c r e t You won\n"
     ]
    }
   ],
   "source": [
    "import time\n",
    "\n",
    "name = input(\"What is your name?\")  # welcoming the user\n",
    "print(\"Hello, \" + name + \", Time to play hangman!\")\n",
    "\n",
    "print(\" \")\n",
    "\n",
    "time.sleep(1)  # wait for 1 second\n",
    "\n",
    "print(\"Start guessing...\")\n",
    "\n",
    "time.sleep(0.5)\n",
    "\n",
    "word = \"secret\"  # here we set the secret\n",
    "guesses = \"\"  # creates an variable with an empty value\n",
    "correct_guesses = \"\"  # store correctly guessed letters\n",
    "\n",
    "turns = 10  # determine the number of turns\n",
    "\n",
    "# Create a while loop\n",
    "while turns > 0:  # check if the turns are more than zero\n",
    "    failed = 0  # make a counter that starts with zero\n",
    "\n",
    "    for char in word:  # for every character in secret_word\n",
    "        if char in guesses:\n",
    "            if char in correct_guesses:\n",
    "                print(char, end=\" \")\n",
    "            else:\n",
    "                print(\"_\", end=\" \")\n",
    "                failed += 1\n",
    "        else:\n",
    "            print(\"_\", end=\" \")\n",
    "            failed += 1\n",
    "\n",
    "    if failed == 0:  # print You Won\n",
    "        print(\"You won\")  # print You Won\n",
    "        break  # exit the script\n",
    "\n",
    "    print()\n",
    "\n",
    "    guess = input(\"guess a character:\")  # ask the user go guess a character\n",
    "    guesses += guess  # set the players guess to guesses\n",
    "\n",
    "    if guess in word:\n",
    "        correct_guesses += guess  # add correctly guessed letter\n",
    "\n",
    "    if guess not in word:  # if the guess is not found in the secret word\n",
    "        turns -= 1  # turns counter decreases with 1 (now 9)\n",
    "        print(\"Wrong\")  # print wrong\n",
    "        print(\"You have\", turns, \"more guesses\")  # how many turns are left\n",
    "\n",
    "    if turns == 0:  # if the turns are equal to zero\n",
    "        print(\"You Lose\")  # print \"You Lose\""
   ]
  },
  {
   "cell_type": "code",
   "execution_count": null,
   "id": "316772c0-7a7e-42b8-93d7-29491546195d",
   "metadata": {},
   "outputs": [],
   "source": []
  }
 ],
 "metadata": {
  "kernelspec": {
   "display_name": "Python 3 (ipykernel)",
   "language": "python",
   "name": "python3"
  },
  "language_info": {
   "codemirror_mode": {
    "name": "ipython",
    "version": 3
   },
   "file_extension": ".py",
   "mimetype": "text/x-python",
   "name": "python",
   "nbconvert_exporter": "python",
   "pygments_lexer": "ipython3",
   "version": "3.12.4"
  }
 },
 "nbformat": 4,
 "nbformat_minor": 5
}
